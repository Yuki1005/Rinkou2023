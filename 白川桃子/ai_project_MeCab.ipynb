{
  "cells": [
    {
      "cell_type": "code",
      "execution_count": 12,
      "metadata": {
        "colab": {
          "base_uri": "https://localhost:8080/"
        },
        "id": "GXjtkXg5Zglm",
        "outputId": "0a882ce1-63b6-4a22-e7c4-e5385049bafa"
      },
      "outputs": [],
      "source": [
        "\n",
        "import MeCab"
      ]
    },
    {
      "cell_type": "code",
      "execution_count": 13,
      "metadata": {
        "id": "GGlhlE6ra2lC"
      },
      "outputs": [],
      "source": [
        "#データを読み込む\n",
        "\n",
        "import pandas as pd\n",
        "review = pd.read_csv(\"review_ver01.csv\")"
      ]
    },
    {
      "cell_type": "code",
      "execution_count": 14,
      "metadata": {
        "colab": {
          "base_uri": "https://localhost:8080/"
        },
        "id": "dAprjcnVi15Y",
        "outputId": "7fa8e7b8-d75b-4bf4-f8c8-0ccf38013317"
      },
      "outputs": [
        {
          "name": "stdout",
          "output_type": "stream",
          "text": [
            "10407\n"
          ]
        },
        {
          "data": {
            "text/plain": [
              "<bound method NDFrame.head of                                                   ページUrl        ASIN   \n",
              "0      https://www.amazon.co.jp/Crest-Outlast-Mouthwa...  B07KKL4861  \\\n",
              "1      https://www.amazon.co.jp/Crest-Outlast-Mouthwa...  B07KKL4861   \n",
              "2      https://www.amazon.co.jp/Crest-Outlast-Mouthwa...  B07KKL4861   \n",
              "3      https://www.amazon.co.jp/Crest-Outlast-Mouthwa...  B07KKL4861   \n",
              "4      https://www.amazon.co.jp/Crest-Outlast-Mouthwa...  B01N242UN2   \n",
              "...                                                  ...         ...   \n",
              "10402  https://www.amazon.co.jp/Crest-Outlast-Mouthwa...  B084HPGQ9W   \n",
              "10403  https://www.amazon.co.jp/Crest-Outlast-Mouthwa...  B084HPGQ9W   \n",
              "10404  https://www.amazon.co.jp/Crest-Outlast-Mouthwa...  B084HPGQ9W   \n",
              "10405  https://www.amazon.co.jp/Crest-Outlast-Mouthwa...  B084HPGQ9W   \n",
              "10406  https://www.amazon.co.jp/Crest-Outlast-Mouthwa...  B09Y9JMPBN   \n",
              "\n",
              "                   Id          投稿日          星  星の数            名前   \n",
              "0      R2GBV5BJBZ7XW1   2023年1月12日  5つ星のうち4.0  4.0           k s  \\\n",
              "1       RUFT16ILW2PCZ  2022年12月30日  5つ星のうち5.0  5.0            SK   \n",
              "2      R31O6MFZ428QUM  2022年12月26日  5つ星のうち5.0  5.0      Lotspots   \n",
              "3       RDCGXYBJDFKIQ  2022年11月23日  5つ星のうち1.0  1.0  Amazon カスタマー   \n",
              "4      R2OJY54Y5DCC5F   2023年4月15日  5つ星のうち5.0  5.0            ジン   \n",
              "...               ...          ...        ...  ...           ...   \n",
              "10402   RGA39O8120EPV   2022年6月28日  5つ星のうち4.0  4.0            だい   \n",
              "10403  R24JRUBFJFLPJ1   2022年6月24日  5つ星のうち5.0  5.0            無名   \n",
              "10404   RGX18HKT4NEI7   2022年6月23日  5つ星のうち1.0  1.0          koko   \n",
              "10405  R1WANT6UGD2C1S   2022年6月21日  5つ星のうち4.0  4.0          すこーる   \n",
              "10406  R1PZBO63OUXRKS   2022年9月22日  5つ星のうち1.0  1.0    Kindleのお客様   \n",
              "\n",
              "                                  レビュー_タイトル   \n",
              "0                   いくつか試してますが値段的には気にいってます。  \\\n",
              "1                                  通常より安く購入   \n",
              "2      Nintendo Switch向けの子供のMicrosoftアカウントに   \n",
              "3                                 うまく課金出来ない   \n",
              "4                                      良い感じ   \n",
              "...                                     ...   \n",
              "10402                                   楽しい   \n",
              "10403                                 毎日楽しい   \n",
              "10404                  発売と同時に購入したが本当に後悔しかない   \n",
              "10405                                通信ありきか   \n",
              "10406                    前作で不満に感じていた部分が悪化した   \n",
              "\n",
              "                                                    レビュー 役に立った  役に立った(人)  \n",
              "0                     他と比べて余り違いが無いのでもっと他にも試してみようと思ってます。;    0人         0  \n",
              "1                          コンビニ等で購入するよりも安く更に購入即時使えて便利です;    0人         0  \n",
              "2      自分のMicrosoftアカウントでファミリー管理している\\n子供のMicrosoftアカウ...    5人         5  \n",
              "3      PCのマイクラに課金しようとしたがうまく出来なかった。1日経過したらNintendo Swi...    0人         0  \n",
              "4                                           迅速に対応してもらった;    0人         0  \n",
              "...                                                  ...   ...       ...  \n",
              "10402                                         なかなかはまります;    1人         1  \n",
              "10403  今までのどう森シリーズも楽しかったので、今回も購入しました。発売日から2年経った後の購入だっ...    1人         1  \n",
              "10404  同シリーズは新作が出てもどんなにレビューが良くても２度と買わない。\\n\\n・ガチャ要素があり...    9人         9  \n",
              "10405  本当は星５なんですけど個人的にマイナスした要点を先に書きますと、インターネットかローカル通信...   10人        10  \n",
              "10406  まずは対戦のチーム編成のバランスがめちゃくちゃです。\\n前作では射程を考慮して編成が組まれて...   53人        53  \n",
              "\n",
              "[10407 rows x 11 columns]>"
            ]
          },
          "execution_count": 14,
          "metadata": {},
          "output_type": "execute_result"
        }
      ],
      "source": [
        "#データが読み込めたか確認する\n",
        "#datetime:日付、comment:コメント、satisfaction:満足度\n",
        "print(len(review))\n",
        "review.head"
      ]
    },
    {
      "cell_type": "code",
      "execution_count": 15,
      "metadata": {
        "colab": {
          "base_uri": "https://localhost:8080/"
        },
        "id": "PQeVxmS-j5hm",
        "outputId": "2445c92b-3d62-434a-b9be-908a25f75939"
      },
      "outputs": [
        {
          "data": {
            "text/plain": [
              "ページUrl       0\n",
              "ASIN         0\n",
              "Id           0\n",
              "投稿日          0\n",
              "星            0\n",
              "星の数          0\n",
              "名前           2\n",
              "レビュー_タイトル    0\n",
              "レビュー         0\n",
              "役に立った        0\n",
              "役に立った(人)     0\n",
              "dtype: int64"
            ]
          },
          "execution_count": 15,
          "metadata": {},
          "output_type": "execute_result"
        }
      ],
      "source": [
        "#欠損値を確認\n",
        "#役に立った人数が0人だと空欄(=欠損値)になっている\n",
        "review.isna().sum()"
      ]
    },
    {
      "cell_type": "code",
      "execution_count": 16,
      "metadata": {
        "colab": {
          "base_uri": "https://localhost:8080/"
        },
        "id": "Uh61r-0KkFHz",
        "outputId": "08ab7c73-a237-41ca-9f67-d04e63f7564e"
      },
      "outputs": [
        {
          "data": {
            "text/plain": [
              "ページUrl       0\n",
              "ASIN         0\n",
              "Id           0\n",
              "投稿日          0\n",
              "星            0\n",
              "星の数          0\n",
              "名前           0\n",
              "レビュー_タイトル    0\n",
              "レビュー         0\n",
              "役に立った        0\n",
              "役に立った(人)     0\n",
              "dtype: int64"
            ]
          },
          "execution_count": 16,
          "metadata": {},
          "output_type": "execute_result"
        }
      ],
      "source": [
        "#役に立った人数が0人の場合、「0人」と記入する\n",
        "#review[\"役に立った\"] = review[\"役に立った\"].str.replace(\"NaN\", \"0人\")\n",
        "\n",
        "#参考(https://note.nkmk.me/python-pandas-nan-fillna/)\n",
        "review= review.fillna(\"0人\")\n",
        "\n",
        "#欠損値を再度確認する\n",
        "review.isna().sum()"
      ]
    },
    {
      "cell_type": "code",
      "execution_count": 17,
      "metadata": {
        "colab": {
          "base_uri": "https://localhost:8080/",
          "height": 354
        },
        "id": "Qho3V55kkllF",
        "outputId": "214fbe1e-e834-42f7-9649-f95335a1e167"
      },
      "outputs": [
        {
          "data": {
            "text/html": [
              "<div>\n",
              "<style scoped>\n",
              "    .dataframe tbody tr th:only-of-type {\n",
              "        vertical-align: middle;\n",
              "    }\n",
              "\n",
              "    .dataframe tbody tr th {\n",
              "        vertical-align: top;\n",
              "    }\n",
              "\n",
              "    .dataframe thead th {\n",
              "        text-align: right;\n",
              "    }\n",
              "</style>\n",
              "<table border=\"1\" class=\"dataframe\">\n",
              "  <thead>\n",
              "    <tr style=\"text-align: right;\">\n",
              "      <th></th>\n",
              "      <th>ページUrl</th>\n",
              "      <th>ASIN</th>\n",
              "      <th>Id</th>\n",
              "      <th>投稿日</th>\n",
              "      <th>星</th>\n",
              "      <th>星の数</th>\n",
              "      <th>名前</th>\n",
              "      <th>レビュー_タイトル</th>\n",
              "      <th>レビュー</th>\n",
              "      <th>役に立った</th>\n",
              "      <th>役に立った(人)</th>\n",
              "      <th>length</th>\n",
              "    </tr>\n",
              "  </thead>\n",
              "  <tbody>\n",
              "    <tr>\n",
              "      <th>0</th>\n",
              "      <td>https://www.amazon.co.jp/Crest-Outlast-Mouthwa...</td>\n",
              "      <td>B07KKL4861</td>\n",
              "      <td>R2GBV5BJBZ7XW1</td>\n",
              "      <td>2023年1月12日</td>\n",
              "      <td>5つ星のうち4.0</td>\n",
              "      <td>4.0</td>\n",
              "      <td>k s</td>\n",
              "      <td>いくつか試してますが値段的には気にいってます。</td>\n",
              "      <td>他と比べて余り違いが無いのでもっと他にも試してみようと思ってます。;</td>\n",
              "      <td>0人</td>\n",
              "      <td>0</td>\n",
              "      <td>34</td>\n",
              "    </tr>\n",
              "    <tr>\n",
              "      <th>1</th>\n",
              "      <td>https://www.amazon.co.jp/Crest-Outlast-Mouthwa...</td>\n",
              "      <td>B07KKL4861</td>\n",
              "      <td>RUFT16ILW2PCZ</td>\n",
              "      <td>2022年12月30日</td>\n",
              "      <td>5つ星のうち5.0</td>\n",
              "      <td>5.0</td>\n",
              "      <td>SK</td>\n",
              "      <td>通常より安く購入</td>\n",
              "      <td>コンビニ等で購入するよりも安く更に購入即時使えて便利です;</td>\n",
              "      <td>0人</td>\n",
              "      <td>0</td>\n",
              "      <td>29</td>\n",
              "    </tr>\n",
              "    <tr>\n",
              "      <th>2</th>\n",
              "      <td>https://www.amazon.co.jp/Crest-Outlast-Mouthwa...</td>\n",
              "      <td>B07KKL4861</td>\n",
              "      <td>R31O6MFZ428QUM</td>\n",
              "      <td>2022年12月26日</td>\n",
              "      <td>5つ星のうち5.0</td>\n",
              "      <td>5.0</td>\n",
              "      <td>Lotspots</td>\n",
              "      <td>Nintendo Switch向けの子供のMicrosoftアカウントに</td>\n",
              "      <td>自分のMicrosoftアカウントでファミリー管理している\\n子供のMicrosoftアカウ...</td>\n",
              "      <td>5人</td>\n",
              "      <td>5</td>\n",
              "      <td>682</td>\n",
              "    </tr>\n",
              "    <tr>\n",
              "      <th>3</th>\n",
              "      <td>https://www.amazon.co.jp/Crest-Outlast-Mouthwa...</td>\n",
              "      <td>B07KKL4861</td>\n",
              "      <td>RDCGXYBJDFKIQ</td>\n",
              "      <td>2022年11月23日</td>\n",
              "      <td>5つ星のうち1.0</td>\n",
              "      <td>1.0</td>\n",
              "      <td>Amazon カスタマー</td>\n",
              "      <td>うまく課金出来ない</td>\n",
              "      <td>PCのマイクラに課金しようとしたがうまく出来なかった。1日経過したらNintendo Swi...</td>\n",
              "      <td>0人</td>\n",
              "      <td>0</td>\n",
              "      <td>79</td>\n",
              "    </tr>\n",
              "    <tr>\n",
              "      <th>4</th>\n",
              "      <td>https://www.amazon.co.jp/Crest-Outlast-Mouthwa...</td>\n",
              "      <td>B01N242UN2</td>\n",
              "      <td>R2OJY54Y5DCC5F</td>\n",
              "      <td>2023年4月15日</td>\n",
              "      <td>5つ星のうち5.0</td>\n",
              "      <td>5.0</td>\n",
              "      <td>ジン</td>\n",
              "      <td>良い感じ</td>\n",
              "      <td>迅速に対応してもらった;</td>\n",
              "      <td>0人</td>\n",
              "      <td>0</td>\n",
              "      <td>12</td>\n",
              "    </tr>\n",
              "  </tbody>\n",
              "</table>\n",
              "</div>"
            ],
            "text/plain": [
              "                                              ページUrl        ASIN   \n",
              "0  https://www.amazon.co.jp/Crest-Outlast-Mouthwa...  B07KKL4861  \\\n",
              "1  https://www.amazon.co.jp/Crest-Outlast-Mouthwa...  B07KKL4861   \n",
              "2  https://www.amazon.co.jp/Crest-Outlast-Mouthwa...  B07KKL4861   \n",
              "3  https://www.amazon.co.jp/Crest-Outlast-Mouthwa...  B07KKL4861   \n",
              "4  https://www.amazon.co.jp/Crest-Outlast-Mouthwa...  B01N242UN2   \n",
              "\n",
              "               Id          投稿日          星  星の数            名前   \n",
              "0  R2GBV5BJBZ7XW1   2023年1月12日  5つ星のうち4.0  4.0           k s  \\\n",
              "1   RUFT16ILW2PCZ  2022年12月30日  5つ星のうち5.0  5.0            SK   \n",
              "2  R31O6MFZ428QUM  2022年12月26日  5つ星のうち5.0  5.0      Lotspots   \n",
              "3   RDCGXYBJDFKIQ  2022年11月23日  5つ星のうち1.0  1.0  Amazon カスタマー   \n",
              "4  R2OJY54Y5DCC5F   2023年4月15日  5つ星のうち5.0  5.0            ジン   \n",
              "\n",
              "                              レビュー_タイトル   \n",
              "0               いくつか試してますが値段的には気にいってます。  \\\n",
              "1                              通常より安く購入   \n",
              "2  Nintendo Switch向けの子供のMicrosoftアカウントに   \n",
              "3                             うまく課金出来ない   \n",
              "4                                  良い感じ   \n",
              "\n",
              "                                                レビュー 役に立った  役に立った(人)  length  \n",
              "0                 他と比べて余り違いが無いのでもっと他にも試してみようと思ってます。;    0人         0      34  \n",
              "1                      コンビニ等で購入するよりも安く更に購入即時使えて便利です;    0人         0      29  \n",
              "2  自分のMicrosoftアカウントでファミリー管理している\\n子供のMicrosoftアカウ...    5人         5     682  \n",
              "3  PCのマイクラに課金しようとしたがうまく出来なかった。1日経過したらNintendo Swi...    0人         0      79  \n",
              "4                                       迅速に対応してもらった;    0人         0      12  "
            ]
          },
          "execution_count": 17,
          "metadata": {},
          "output_type": "execute_result"
        }
      ],
      "source": [
        "#レビューの長さを計算\n",
        "#length:commentの長さ　を追加する\n",
        "review[\"length\"] = review[\"レビュー\"].str.len()\n",
        "review.head()"
      ]
    },
    {
      "cell_type": "markdown",
      "metadata": {
        "colab": {
          "base_uri": "https://localhost:8080/",
          "height": 447
        },
        "id": "a7EAGOB2l4jE",
        "outputId": "c9baad1c-3718-438a-d005-f6e759d96a0f"
      },
      "source": [
        "#ヒストグラムの描画\n",
        "#matplotlib.pyplot：グラフを作れるモジュール\n",
        "import matplotlib.pyplot as plt\n",
        "\n",
        "#x軸リストの作成(0-3000で10刻み)\n",
        "left = []\n",
        "for i in range(379):\n",
        "  left.append(i*10)\n",
        "\n",
        "#y軸リストをsurveyのlengthから作る\n",
        "#参考(https://biotech-lab.org/articles/4896)\n",
        "list_length = review[\"length\"].to_list()\n",
        "plt.bar(left, list_length, width=5.0)"
      ]
    },
    {
      "cell_type": "code",
      "execution_count": 18,
      "metadata": {
        "colab": {
          "base_uri": "https://localhost:8080/"
        },
        "id": "MrfXYxNG_1_l",
        "outputId": "cf4aeffd-be70-4331-97bf-6d6681e6731b"
      },
      "outputs": [
        {
          "name": "stdout",
          "output_type": "stream",
          "text": [
            "[['他', 'ホカ', 'ホカ', '他', '名詞-普通名詞-副詞可能', '0'], ['と', 'ト', 'ト', 'と', '助詞-格助詞'], ['比べ', 'クラベ', 'クラベル', '比べる', '動詞-一般', '下一段-バ行', '連用形-一般', '0'], ['て', 'テ', 'テ', 'て', '助詞-接続助詞'], ['余り', 'アマリ', 'アマリ', '余り', '副詞', '0'], ['違い', 'チガイ', 'チガイ', '違い', '名詞-普通名詞-一般', '0'], ['が', 'ガ', 'ガ', 'が', '助詞-格助詞'], ['無い', 'ナイ', 'ナイ', '無い', '形容詞-非自立可能', '形容詞', '連体形-一般', '1'], ['の', 'ノ', 'ノ', 'の', '助詞-準体助詞'], ['で', 'デ', 'ダ', 'だ', '助動詞', '助動詞-ダ', '連用形-一般'], ['もっと', 'モット', 'モット', 'もっと', '副詞', '1'], ['他', 'ホカ', 'ホカ', '他', '名詞-普通名詞-副詞可能', '0'], ['に', 'ニ', 'ニ', 'に', '助詞-格助詞'], ['も', 'モ', 'モ', 'も', '助詞-係助詞'], ['試し', 'タメシ', 'タメス', '試す', '動詞-一般', '五段-サ行', '連用形-一般', '2'], ['て', 'テ', 'テ', 'て', '助詞-接続助詞'], ['みよう', 'ミヨー', 'ミル', '見る', '動詞-非自立可能', '上一段-マ行', '意志推量形', '1'], ['と', 'ト', 'ト', 'と', '助詞-格助詞'], ['思っ', 'オモッ', 'オモウ', '思う', '動詞-一般', '五段-ワア行', '連用形-促音便', '2'], ['て', 'テ', 'テル', 'てる', '助動詞', '下一段-タ行', '連用形-一般'], ['ます', 'マス', 'マス', 'ます', '助動詞', '助動詞-マス', '終止形-一般'], ['。', '。', '補助記号-句点'], [';', ';', ';', ';', '記号-一般', '0'], ['EOS']]\n"
          ]
        }
      ],
      "source": [
        "text = review[\"レビュー\"].iloc[0]\n",
        "#print(text)\n",
        "tagger = MeCab.Tagger()\n",
        "words = tagger.parse(text).splitlines()\n",
        "#print(words)\n",
        "a = []\n",
        "for i in words:\n",
        "  word_tmp = i.split()\n",
        "  a.append(word_tmp)\n",
        "print(a)"
      ]
    },
    {
      "cell_type": "code",
      "execution_count": 19,
      "metadata": {
        "colab": {
          "base_uri": "https://localhost:8080/",
          "height": 240
        },
        "id": "_z4qurezl9NS",
        "outputId": "5bef9434-3ee8-4829-c390-4bdb3de7a8a0"
      },
      "outputs": [],
      "source": [
        "all_words = []\n",
        "parts = [\"名詞\"]\n",
        "tagger = MeCab.Tagger()\n",
        "\n",
        "for n in range(len(review)):\n",
        "  text = review[\"レビュー\"].iloc[n]\n",
        "\n",
        "  words = tagger.parse(text).splitlines()\n",
        "\n",
        "  #レビュー毎に↓に一時格納\n",
        "  words_arr = []\n",
        "  for i in words:\n",
        "    \n",
        "\n",
        "    #E0Sか空欄ならやり直す\n",
        "    if i == \"E0S\" or i == \"\":\n",
        "      continue\n",
        "    word_tmp = i.split()[0]\n",
        "    if len(i.split()) >= 4:\n",
        "      part = i.split()[4].split(\"-\")[0]\n",
        "      if not (part in parts):\n",
        "        continue\n",
        "      words_arr.append(word_tmp)\n",
        "  all_words.extend(words_arr)"
      ]
    },
    {
      "cell_type": "code",
      "execution_count": 20,
      "metadata": {
        "colab": {
          "base_uri": "https://localhost:8080/",
          "height": 81
        },
        "id": "n_6y3caHvAhO",
        "outputId": "9c88eb30-f70a-4547-c577-08f5db030878"
      },
      "outputs": [
        {
          "data": {
            "text/html": [
              "<div>\n",
              "<style scoped>\n",
              "    .dataframe tbody tr th:only-of-type {\n",
              "        vertical-align: middle;\n",
              "    }\n",
              "\n",
              "    .dataframe tbody tr th {\n",
              "        vertical-align: top;\n",
              "    }\n",
              "\n",
              "    .dataframe thead th {\n",
              "        text-align: right;\n",
              "    }\n",
              "</style>\n",
              "<table border=\"1\" class=\"dataframe\">\n",
              "  <thead>\n",
              "    <tr style=\"text-align: right;\">\n",
              "      <th></th>\n",
              "      <th>count</th>\n",
              "    </tr>\n",
              "    <tr>\n",
              "      <th>words</th>\n",
              "      <th></th>\n",
              "    </tr>\n",
              "  </thead>\n",
              "  <tbody>\n",
              "    <tr>\n",
              "      <th>ゲーム</th>\n",
              "      <td>4618</td>\n",
              "    </tr>\n",
              "    <tr>\n",
              "      <th>ポケモン</th>\n",
              "      <td>4585</td>\n",
              "    </tr>\n",
              "    <tr>\n",
              "      <th>こと</th>\n",
              "      <td>2988</td>\n",
              "    </tr>\n",
              "    <tr>\n",
              "      <th>プレイ</th>\n",
              "      <td>2322</td>\n",
              "    </tr>\n",
              "    <tr>\n",
              "      <th>購入</th>\n",
              "      <td>2192</td>\n",
              "    </tr>\n",
              "    <tr>\n",
              "      <th>...</th>\n",
              "      <td>...</td>\n",
              "    </tr>\n",
              "    <tr>\n",
              "      <th>学級</th>\n",
              "      <td>1</td>\n",
              "    </tr>\n",
              "    <tr>\n",
              "      <th>学童</th>\n",
              "      <td>1</td>\n",
              "    </tr>\n",
              "    <tr>\n",
              "      <th>spanish</th>\n",
              "      <td>1</td>\n",
              "    </tr>\n",
              "    <tr>\n",
              "      <th>sparkled</th>\n",
              "      <td>1</td>\n",
              "    </tr>\n",
              "    <tr>\n",
              "      <th>ﾔﾊﾞｽｷﾞｨ</th>\n",
              "      <td>1</td>\n",
              "    </tr>\n",
              "  </tbody>\n",
              "</table>\n",
              "<p>15315 rows × 1 columns</p>\n",
              "</div>"
            ],
            "text/plain": [
              "          count\n",
              "words          \n",
              "ゲーム        4618\n",
              "ポケモン       4585\n",
              "こと         2988\n",
              "プレイ        2322\n",
              "購入         2192\n",
              "...         ...\n",
              "学級            1\n",
              "学童            1\n",
              "spanish       1\n",
              "sparkled      1\n",
              "ﾔﾊﾞｽｷﾞｨ       1\n",
              "\n",
              "[15315 rows x 1 columns]"
            ]
          },
          "execution_count": 20,
          "metadata": {},
          "output_type": "execute_result"
        }
      ],
      "source": [
        "#頻出単語表を作成する\n",
        "\n",
        "#データフレームに格納\n",
        "#データフレーム：2次元の表形式に処理\n",
        "all_words_df = pd.DataFrame({\"words\":all_words, \"count\":len(all_words)*[1]})\n",
        "\n",
        "#countを単語毎に集計\n",
        "#groupby：同じ値を持つデータをまとめる\n",
        "all_words_df = all_words_df.groupby(\"words\").sum()\n",
        "\n",
        "#表示\n",
        "all_words_df.sort_values(\"count\", ascending=False)"
      ]
    },
    {
      "cell_type": "code",
      "execution_count": 21,
      "metadata": {},
      "outputs": [],
      "source": [
        "stop_words = [\"の\"]\n",
        "all_words = []\n",
        "parts = [\"名詞\"]\n",
        "for n in range(len(review)):\n",
        "    text = review[\"レビュー\"].iloc[n]\n",
        "    words = tagger.parse(text).splitlines()\n",
        "    words_arr = []\n",
        "    for i in words:\n",
        "        if i == \"EOS\" or i == \"\":\n",
        "            continue\n",
        "        word_tmp = i.split()[0]\n",
        "        if len(i.split())>=4:\n",
        "            part = i.split()[4].split(\"-\")[0]\n",
        "            if not (part in parts):\n",
        "                continue\n",
        "            if word_tmp in stop_words:\n",
        "                continue\n",
        "            words_arr.append(word_tmp)\n",
        "    all_words.extend(words_arr)"
      ]
    },
    {
      "cell_type": "code",
      "execution_count": 22,
      "metadata": {},
      "outputs": [
        {
          "data": {
            "text/html": [
              "<div>\n",
              "<style scoped>\n",
              "    .dataframe tbody tr th:only-of-type {\n",
              "        vertical-align: middle;\n",
              "    }\n",
              "\n",
              "    .dataframe tbody tr th {\n",
              "        vertical-align: top;\n",
              "    }\n",
              "\n",
              "    .dataframe thead th {\n",
              "        text-align: right;\n",
              "    }\n",
              "</style>\n",
              "<table border=\"1\" class=\"dataframe\">\n",
              "  <thead>\n",
              "    <tr style=\"text-align: right;\">\n",
              "      <th></th>\n",
              "      <th>count</th>\n",
              "    </tr>\n",
              "    <tr>\n",
              "      <th>words</th>\n",
              "      <th></th>\n",
              "    </tr>\n",
              "  </thead>\n",
              "  <tbody>\n",
              "    <tr>\n",
              "      <th>ゲーム</th>\n",
              "      <td>4618</td>\n",
              "    </tr>\n",
              "    <tr>\n",
              "      <th>ポケモン</th>\n",
              "      <td>4585</td>\n",
              "    </tr>\n",
              "    <tr>\n",
              "      <th>こと</th>\n",
              "      <td>2988</td>\n",
              "    </tr>\n",
              "    <tr>\n",
              "      <th>プレイ</th>\n",
              "      <td>2322</td>\n",
              "    </tr>\n",
              "    <tr>\n",
              "      <th>購入</th>\n",
              "      <td>2192</td>\n",
              "    </tr>\n",
              "    <tr>\n",
              "      <th>...</th>\n",
              "      <td>...</td>\n",
              "    </tr>\n",
              "    <tr>\n",
              "      <th>学級</th>\n",
              "      <td>1</td>\n",
              "    </tr>\n",
              "    <tr>\n",
              "      <th>学童</th>\n",
              "      <td>1</td>\n",
              "    </tr>\n",
              "    <tr>\n",
              "      <th>spanish</th>\n",
              "      <td>1</td>\n",
              "    </tr>\n",
              "    <tr>\n",
              "      <th>sparkled</th>\n",
              "      <td>1</td>\n",
              "    </tr>\n",
              "    <tr>\n",
              "      <th>ﾔﾊﾞｽｷﾞｨ</th>\n",
              "      <td>1</td>\n",
              "    </tr>\n",
              "  </tbody>\n",
              "</table>\n",
              "<p>15315 rows × 1 columns</p>\n",
              "</div>"
            ],
            "text/plain": [
              "          count\n",
              "words          \n",
              "ゲーム        4618\n",
              "ポケモン       4585\n",
              "こと         2988\n",
              "プレイ        2322\n",
              "購入         2192\n",
              "...         ...\n",
              "学級            1\n",
              "学童            1\n",
              "spanish       1\n",
              "sparkled      1\n",
              "ﾔﾊﾞｽｷﾞｨ       1\n",
              "\n",
              "[15315 rows x 1 columns]"
            ]
          },
          "execution_count": 22,
          "metadata": {},
          "output_type": "execute_result"
        }
      ],
      "source": [
        "\n",
        "all_words_df = pd.DataFrame({\"words\":all_words, \"count\":len(all_words)*[1]})\n",
        "\n",
        "#countを単語毎に集計\n",
        "#groupby：同じ値を持つデータをまとめる\n",
        "all_words_df = all_words_df.groupby(\"words\").sum()\n",
        "\n",
        "#表示\n",
        "all_words_df.sort_values(\"count\", ascending=False)"
      ]
    },
    {
      "cell_type": "code",
      "execution_count": null,
      "metadata": {},
      "outputs": [],
      "source": []
    }
  ],
  "metadata": {
    "colab": {
      "provenance": []
    },
    "kernelspec": {
      "display_name": "Python 3",
      "name": "python3"
    },
    "language_info": {
      "codemirror_mode": {
        "name": "ipython",
        "version": 3
      },
      "file_extension": ".py",
      "mimetype": "text/x-python",
      "name": "python",
      "nbconvert_exporter": "python",
      "pygments_lexer": "ipython3",
      "version": "3.11.3"
    }
  },
  "nbformat": 4,
  "nbformat_minor": 0
}
