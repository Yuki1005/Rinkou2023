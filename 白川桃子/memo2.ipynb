{
 "cells": [
  {
   "cell_type": "code",
   "execution_count": 5,
   "metadata": {},
   "outputs": [
    {
     "name": "stdout",
     "output_type": "stream",
     "text": [
      "今日\tキョウ\t今日\t名詞-副詞可能\t\t\n",
      "も\tモ\tも\t助詞-係助詞\t\t\n",
      "し\tシ\tする\t動詞-自立\tサ変・スル\t未然形\n",
      "ない\tナイ\tない\t助動詞\t特殊・ナイ\t基本形\n",
      "と\tト\tと\t助詞-接続助詞\t\t\n",
      "ね\tネ\tね\t助詞-終助詞\t\t\n",
      "EOS\n",
      "\n",
      "  太郎は-----------D\n",
      "      この-D       |\n",
      "        本を---D   |\n",
      "        二郎を-D   |\n",
      "            見た-D |\n",
      "            女性に-D\n",
      "            渡した。\n",
      "EOS\n",
      "\n"
     ]
    }
   ],
   "source": [
    "import MeCab\n",
    "import sys\n",
    "import CaboCha\n",
    "from distutils.core import setup,Extension,os\n",
    "import string\n",
    "\n",
    "\n",
    "m = MeCab.Tagger (\"-Ochasen\")\n",
    "print(m.parse (\"今日もしないとね\"))\n",
    "\n",
    "c = CaboCha.Parser()\n",
    "\n",
    "sentence = \"太郎はこの本を二郎を見た女性に渡した。\"\n",
    "\n",
    "print(c.parseToString(sentence))"
   ]
  }
 ],
 "metadata": {
  "kernelspec": {
   "display_name": "only-pip",
   "language": "python",
   "name": "python3"
  },
  "language_info": {
   "codemirror_mode": {
    "name": "ipython",
    "version": 3
   },
   "file_extension": ".py",
   "mimetype": "text/x-python",
   "name": "python",
   "nbconvert_exporter": "python",
   "pygments_lexer": "ipython3",
   "version": "3.8.10"
  },
  "orig_nbformat": 4
 },
 "nbformat": 4,
 "nbformat_minor": 2
}
