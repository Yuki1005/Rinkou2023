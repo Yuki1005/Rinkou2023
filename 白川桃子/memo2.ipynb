{
 "cells": [
  {
   "cell_type": "code",
   "execution_count": 5,
   "metadata": {},
   "outputs": [
    {
     "ename": "RuntimeError",
     "evalue": "",
     "output_type": "error",
     "traceback": [
      "\u001b[1;31m---------------------------------------------------------------------------\u001b[0m",
      "\u001b[1;31mRuntimeError\u001b[0m                              Traceback (most recent call last)",
      "Cell \u001b[1;32mIn[5], line 8\u001b[0m\n\u001b[0;32m      4\u001b[0m \u001b[39mfrom\u001b[39;00m \u001b[39mdistutils\u001b[39;00m\u001b[39m.\u001b[39;00m\u001b[39mcore\u001b[39;00m \u001b[39mimport\u001b[39;00m setup,Extension,os\n\u001b[0;32m      5\u001b[0m \u001b[39mimport\u001b[39;00m \u001b[39mstring\u001b[39;00m\n\u001b[1;32m----> 8\u001b[0m m \u001b[39m=\u001b[39m MeCab\u001b[39m.\u001b[39;49mTagger (\u001b[39m\"\u001b[39;49m\u001b[39m-Ochasen\u001b[39;49m\u001b[39m\"\u001b[39;49m)\n\u001b[0;32m      9\u001b[0m \u001b[39mprint\u001b[39m(m\u001b[39m.\u001b[39mparse (\u001b[39m\"\u001b[39m\u001b[39m今日もしないとね\u001b[39m\u001b[39m\"\u001b[39m))\n\u001b[0;32m     11\u001b[0m c \u001b[39m=\u001b[39m CaboCha\u001b[39m.\u001b[39mParser()\n",
      "File \u001b[1;32mc:\\Users\\yhira\\AppData\\Local\\Programs\\Python\\Python38-32\\lib\\site-packages\\MeCab.py:355\u001b[0m, in \u001b[0;36mTagger.__init__\u001b[1;34m(self, *args)\u001b[0m\n\u001b[0;32m    354\u001b[0m \u001b[39mdef\u001b[39;00m \u001b[39m__init__\u001b[39m(\u001b[39mself\u001b[39m, \u001b[39m*\u001b[39margs):\n\u001b[1;32m--> 355\u001b[0m     _MeCab\u001b[39m.\u001b[39mTagger_swiginit(\u001b[39mself\u001b[39m, _MeCab\u001b[39m.\u001b[39;49mnew_Tagger(\u001b[39m*\u001b[39;49margs))\n",
      "\u001b[1;31mRuntimeError\u001b[0m: "
     ]
    }
   ],
   "source": [
    "import MeCab\n",
    "import sys\n",
    "import CaboCha\n",
    "from distutils.core import setup,Extension,os\n",
    "import string\n",
    "\n",
    "\n",
    "m = MeCab.Tagger (\"-Ochasen\")\n",
    "print(m.parse (\"今日もしないとね\"))\n",
    "\n",
    "c = CaboCha.Parser()\n",
    "\n",
    "sentence = \"太郎はこの本を二郎を見た女性に渡した。\"\n",
    "\n",
    "print(c.parseToString(sentence))"
   ]
  },
  {
   "cell_type": "code",
   "execution_count": null,
   "metadata": {},
   "outputs": [
    {
     "ename": "RuntimeError",
     "evalue": "\n----------------------------------------------------------\n\nFailed initializing MeCab. Please see the README for possible solutions:\n\n    https://github.com/SamuraiT/mecab-python3#common-issues\n\nIf you are still having trouble, please file an issue here, and include the\nERROR DETAILS below:\n\n    https://github.com/SamuraiT/mecab-python3/issues\n\nissueを英語で書く必要はありません。\n\n------------------- ERROR DETAILS ------------------------\narguments: \n[ifs] no such file or directory: c:\\Users\\yhira\\anaconda3\\envs\\only-pip\\Lib\\site-packages\\unidic\\dicdir\\mecabrc\n----------------------------------------------------------\n",
     "output_type": "error",
     "traceback": [
      "\u001b[1;31m---------------------------------------------------------------------------\u001b[0m",
      "\u001b[1;31mRuntimeError\u001b[0m                              Traceback (most recent call last)",
      "File \u001b[1;32mc:\\Users\\yhira\\anaconda3\\envs\\only-pip\\Lib\\site-packages\\MeCab\\__init__.py:133\u001b[0m, in \u001b[0;36mTagger.__init__\u001b[1;34m(self, rawargs)\u001b[0m\n\u001b[0;32m    132\u001b[0m \u001b[39mtry\u001b[39;00m:\n\u001b[1;32m--> 133\u001b[0m     \u001b[39msuper\u001b[39;49m(Tagger, \u001b[39mself\u001b[39;49m)\u001b[39m.\u001b[39;49m\u001b[39m__init__\u001b[39;49m(args)\n\u001b[0;32m    134\u001b[0m \u001b[39mexcept\u001b[39;00m \u001b[39mRuntimeError\u001b[39;00m \u001b[39mas\u001b[39;00m ee:\n",
      "\u001b[1;31mRuntimeError\u001b[0m: ",
      "\nThe above exception was the direct cause of the following exception:\n",
      "\u001b[1;31mRuntimeError\u001b[0m                              Traceback (most recent call last)",
      "Cell \u001b[1;32mIn[2], line 2\u001b[0m\n\u001b[0;32m      1\u001b[0m \u001b[39mimport\u001b[39;00m \u001b[39mMeCab\u001b[39;00m\n\u001b[1;32m----> 2\u001b[0m mecab \u001b[39m=\u001b[39m MeCab\u001b[39m.\u001b[39;49mTagger()\n\u001b[0;32m      4\u001b[0m \u001b[39m# 形態素解析\u001b[39;00m\n\u001b[0;32m      5\u001b[0m result \u001b[39m=\u001b[39m mecab\u001b[39m.\u001b[39mparse(\u001b[39m\"\u001b[39m\u001b[39m私は図書館で本を借りた。\u001b[39m\u001b[39m\"\u001b[39m)\n",
      "File \u001b[1;32mc:\\Users\\yhira\\anaconda3\\envs\\only-pip\\Lib\\site-packages\\MeCab\\__init__.py:135\u001b[0m, in \u001b[0;36mTagger.__init__\u001b[1;34m(self, rawargs)\u001b[0m\n\u001b[0;32m    133\u001b[0m     \u001b[39msuper\u001b[39m(Tagger, \u001b[39mself\u001b[39m)\u001b[39m.\u001b[39m\u001b[39m__init__\u001b[39m(args)\n\u001b[0;32m    134\u001b[0m \u001b[39mexcept\u001b[39;00m \u001b[39mRuntimeError\u001b[39;00m \u001b[39mas\u001b[39;00m ee:\n\u001b[1;32m--> 135\u001b[0m     \u001b[39mraise\u001b[39;00m \u001b[39mRuntimeError\u001b[39;00m(error_info(rawargs)) \u001b[39mfrom\u001b[39;00m \u001b[39mee\u001b[39;00m\n",
      "\u001b[1;31mRuntimeError\u001b[0m: \n----------------------------------------------------------\n\nFailed initializing MeCab. Please see the README for possible solutions:\n\n    https://github.com/SamuraiT/mecab-python3#common-issues\n\nIf you are still having trouble, please file an issue here, and include the\nERROR DETAILS below:\n\n    https://github.com/SamuraiT/mecab-python3/issues\n\nissueを英語で書く必要はありません。\n\n------------------- ERROR DETAILS ------------------------\narguments: \n[ifs] no such file or directory: c:\\Users\\yhira\\anaconda3\\envs\\only-pip\\Lib\\site-packages\\unidic\\dicdir\\mecabrc\n----------------------------------------------------------\n"
     ]
    }
   ],
   "source": [
    "import pandas as pd\n",
    "\n",
    "data_kion = []\n",
    "\n",
    "for i in range(len(mitai_kazu)):\n",
    "    mitai_kazu[all]\n",
    "\n",
    "df_list = pd.DataFrame(data_kion, columns=[\"年月日\",\"平均気温\",\"最高気温\",\"最低気温\"])\n",
    "df_list.to_csv(\"出力結果.csv\", index=False, encoding=\"utf-8\")\n",
    "\n"
   ]
  }
 ],
 "metadata": {
  "kernelspec": {
   "display_name": "only-pip",
   "language": "python",
   "name": "python3"
  },
  "language_info": {
   "codemirror_mode": {
    "name": "ipython",
    "version": 3
   },
   "file_extension": ".py",
   "mimetype": "text/x-python",
   "name": "python",
   "nbconvert_exporter": "python",
   "pygments_lexer": "ipython3",
   "version": "3.8.10"
  },
  "orig_nbformat": 4
 },
 "nbformat": 4,
 "nbformat_minor": 2
}
