{
 "cells": [
  {
   "cell_type": "code",
   "execution_count": 1,
   "metadata": {},
   "outputs": [
    {
     "name": "stdout",
     "output_type": "stream",
     "text": [
      "('A', 'a')\n",
      "('A', 'b')\n",
      "('A', 'c')\n",
      "('B', 'a')\n",
      "('B', 'b')\n",
      "('B', 'c')\n",
      "('C', 'a')\n",
      "('C', 'b')\n",
      "('C', 'c')\n"
     ]
    }
   ],
   "source": [
    "from itertools import product\n",
    "\n",
    "a = [\"A\",\"B\",\"C\"]\n",
    "b = [\"a\",\"b\",\"c\"]\n",
    "\n",
    "c = product(a,b)\n",
    "for i in c:\n",
    "    print(i)"
   ]
  },
  {
   "cell_type": "code",
   "execution_count": null,
   "metadata": {},
   "outputs": [],
   "source": []
  }
 ],
 "metadata": {
  "kernelspec": {
   "display_name": "osmnx",
   "language": "python",
   "name": "python3"
  },
  "language_info": {
   "codemirror_mode": {
    "name": "ipython",
    "version": 3
   },
   "file_extension": ".py",
   "mimetype": "text/x-python",
   "name": "python",
   "nbconvert_exporter": "python",
   "pygments_lexer": "ipython3",
   "version": "3.7.13"
  },
  "orig_nbformat": 4
 },
 "nbformat": 4,
 "nbformat_minor": 2
}
