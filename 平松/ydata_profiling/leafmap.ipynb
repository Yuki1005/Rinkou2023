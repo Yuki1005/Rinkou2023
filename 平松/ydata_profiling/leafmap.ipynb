{
 "cells": [
  {
   "cell_type": "code",
   "execution_count": 22,
   "metadata": {},
   "outputs": [
    {
     "data": {
      "application/vnd.jupyter.widget-view+json": {
       "model_id": "6cb2e108e67648189b7713222d26b373",
       "version_major": 2,
       "version_minor": 0
      },
      "text/plain": [
       "Map(center=[35.6311121, 139.7824827], controls=(ZoomControl(options=['position', 'zoom_in_text', 'zoom_in_titl…"
      ]
     },
     "execution_count": 22,
     "metadata": {},
     "output_type": "execute_result"
    }
   ],
   "source": [
    "import leafmap \n",
    "m  = leafmap.Map(center=(35.6311121,139.7824827),zoom=17)\n",
    "m"
   ]
  },
  {
   "cell_type": "code",
   "execution_count": 23,
   "metadata": {},
   "outputs": [
    {
     "data": {
      "application/vnd.jupyter.widget-view+json": {
       "model_id": "ce02c16ef1b84d7aad6bd3bfae57b9f0",
       "version_major": 2,
       "version_minor": 0
      },
      "text/plain": [
       "Map(center=[20, 0], controls=(ZoomControl(options=['position', 'zoom_in_text', 'zoom_in_title', 'zoom_out_text…"
      ]
     },
     "execution_count": 23,
     "metadata": {},
     "output_type": "execute_result"
    }
   ],
   "source": [
    "import geopandas as gpd\n",
    "\n",
    "m = leafmap.Map()\n",
    "gdf = gpd.read_file(\n",
    "    \"https://github.com/giswqs/leafmap/raw/master/examples/data/cable_geo.geojson\"\n",
    "    \n",
    ")\n",
    "m.add_gdf(gdf, layer_name=\"Cable lines\")\n",
    "m"
   ]
  }
 ],
 "metadata": {
  "kernelspec": {
   "display_name": "only-pip",
   "language": "python",
   "name": "python3"
  },
  "language_info": {
   "codemirror_mode": {
    "name": "ipython",
    "version": 3
   },
   "file_extension": ".py",
   "mimetype": "text/x-python",
   "name": "python",
   "nbconvert_exporter": "python",
   "pygments_lexer": "ipython3",
   "version": "3.11.3"
  }
 },
 "nbformat": 4,
 "nbformat_minor": 2
}
