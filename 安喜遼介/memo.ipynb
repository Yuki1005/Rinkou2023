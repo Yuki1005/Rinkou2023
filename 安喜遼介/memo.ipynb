{
 "cells": [
  {
   "cell_type": "code",
   "execution_count": 3,
   "metadata": {},
   "outputs": [
    {
     "ename": "AttributeError",
     "evalue": "type object 'LpProblem' has no attribute 'status'",
     "output_type": "error",
     "traceback": [
      "\u001b[1;31m---------------------------------------------------------------------------\u001b[0m",
      "\u001b[1;31mAttributeError\u001b[0m                            Traceback (most recent call last)",
      "\u001b[1;32mc:\\Users\\yhira\\OneDrive\\デスクトップ\\輪講\\安喜遼介\\memo.ipynb セル 1\u001b[0m line \u001b[0;36m3\n\u001b[0;32m     <a href='vscode-notebook-cell:/c%3A/Users/yhira/OneDrive/%E3%83%87%E3%82%B9%E3%82%AF%E3%83%88%E3%83%83%E3%83%97/%E8%BC%AA%E8%AC%9B/%E5%AE%89%E5%96%9C%E9%81%BC%E4%BB%8B/memo.ipynb#W0sZmlsZQ%3D%3D?line=35'>36</a>\u001b[0m prob\u001b[39m.\u001b[39msolve()\n\u001b[0;32m     <a href='vscode-notebook-cell:/c%3A/Users/yhira/OneDrive/%E3%83%87%E3%82%B9%E3%82%AF%E3%83%88%E3%83%83%E3%83%97/%E8%BC%AA%E8%AC%9B/%E5%AE%89%E5%96%9C%E9%81%BC%E4%BB%8B/memo.ipynb#W0sZmlsZQ%3D%3D?line=37'>38</a>\u001b[0m \u001b[39m# 結果の表示\u001b[39;00m\n\u001b[1;32m---> <a href='vscode-notebook-cell:/c%3A/Users/yhira/OneDrive/%E3%83%87%E3%82%B9%E3%82%AF%E3%83%88%E3%83%83%E3%83%97/%E8%BC%AA%E8%AC%9B/%E5%AE%89%E5%96%9C%E9%81%BC%E4%BB%8B/memo.ipynb#W0sZmlsZQ%3D%3D?line=38'>39</a>\u001b[0m \u001b[39mprint\u001b[39m(\u001b[39m\"\u001b[39m\u001b[39mStatus:\u001b[39m\u001b[39m\"\u001b[39m, LpProblem\u001b[39m.\u001b[39;49mstatus[prob\u001b[39m.\u001b[39mstatus])\n\u001b[0;32m     <a href='vscode-notebook-cell:/c%3A/Users/yhira/OneDrive/%E3%83%87%E3%82%B9%E3%82%AF%E3%83%88%E3%83%83%E3%83%97/%E8%BC%AA%E8%AC%9B/%E5%AE%89%E5%96%9C%E9%81%BC%E4%BB%8B/memo.ipynb#W0sZmlsZQ%3D%3D?line=39'>40</a>\u001b[0m \u001b[39mfor\u001b[39;00m staff_member \u001b[39min\u001b[39;00m staff:\n\u001b[0;32m     <a href='vscode-notebook-cell:/c%3A/Users/yhira/OneDrive/%E3%83%87%E3%82%B9%E3%82%AF%E3%83%88%E3%83%83%E3%83%97/%E8%BC%AA%E8%AC%9B/%E5%AE%89%E5%96%9C%E9%81%BC%E4%BB%8B/memo.ipynb#W0sZmlsZQ%3D%3D?line=40'>41</a>\u001b[0m     \u001b[39mfor\u001b[39;00m shift \u001b[39min\u001b[39;00m shifts:\n",
      "\u001b[1;31mAttributeError\u001b[0m: type object 'LpProblem' has no attribute 'status'"
     ]
    }
   ],
   "source": []
  }
 ],
 "metadata": {
  "kernelspec": {
   "display_name": "only-pip",
   "language": "python",
   "name": "python3"
  },
  "language_info": {
   "codemirror_mode": {
    "name": "ipython",
    "version": 3
   },
   "file_extension": ".py",
   "mimetype": "text/x-python",
   "name": "python",
   "nbconvert_exporter": "python",
   "pygments_lexer": "ipython3",
   "version": "3.11.3"
  }
 },
 "nbformat": 4,
 "nbformat_minor": 2
}
