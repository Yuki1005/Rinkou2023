{
 "cells": [
  {
   "attachments": {},
   "cell_type": "markdown",
   "metadata": {},
   "source": [
    "# 最適化をいじるためのAnacondaの仮想環境構築\n",
    "## 1. Anaconda Prompt を開く  \n",
    "![picture 1](images/9fc859357ab277ded48e09d048e106e51e958c11d4249db6b371301b532b28be.png)  \n",
    "## 2. 仮想環境作り\n",
    "### $ conda create -n 好きな名前\n",
    "### $ conda info -e\n",
    "### $ conda install pip\n",
    "### $ conda list\n",
    "### $ pip install \n"
   ]
  },
  {
   "cell_type": "code",
   "execution_count": null,
   "metadata": {},
   "outputs": [],
   "source": []
  }
 ],
 "metadata": {
  "kernelspec": {
   "display_name": "Python 3",
   "language": "python",
   "name": "python3"
  },
  "language_info": {
   "name": "python",
   "version": "3.11.3"
  },
  "orig_nbformat": 4
 },
 "nbformat": 4,
 "nbformat_minor": 2
}
