{
 "cells": [
  {
   "attachments": {},
   "cell_type": "markdown",
   "metadata": {},
   "source": [
    "# パッケージの入れ方"
   ]
  },
  {
   "cell_type": "code",
   "execution_count": null,
   "metadata": {},
   "outputs": [],
   "source": [
    "#pip install パッケージ名\n",
    "\n",
    "#conda install パッケージ名\n",
    "#conda install -c conda-forge パッケージ名"
   ]
  },
  {
   "attachments": {},
   "cell_type": "markdown",
   "metadata": {},
   "source": [
    "### **pip とは**  \n",
    "Pythonパッケージの配布サービスでPython用いたプログラミングでは大半がこのコマンドで済む  \n",
    "### **conda とは**  \n",
    "Anaconda上で提供されるPythonとは関係ないソフトウェアのダウンロード、インストールが行えるコマンド  \n",
    "### **conda-forge とは**  \n",
    "condaで見つからないようなパッケージを探すことが出来る  \n",
    "![](images\\packagesnotfound.png)  \n",
    "### **pipとcondaの違い**  \n",
    "Anacondaは通常、condaコマンドを使って運用を行いますが、pipというコマンドを使って運用することもできます。pipはPythonにデフォルトで付属しているコマンドで、PyPlというサイトで公開されている、多様なパッケージを利用できます。  \n",
    "condaとpipの違いは、リポジトリの違いにあります。condaはAnacondaが管理しているリポジトリを用い、pipはPyPLのものを使用するわけですが、前者は組織が適切に管理している一方、後者については事実上自由にパッケージを誰でも公開できる状態であるため、中には正しく動作しないパッケージが含まれている場合もあります。 \n",
    "1[](images\\pip_and_conda.png) "
   ]
  },
  {
   "cell_type": "markdown",
   "metadata": {},
   "source": []
  }
 ],
 "metadata": {
  "kernelspec": {
   "display_name": "Python 3",
   "language": "python",
   "name": "python3"
  },
  "language_info": {
   "name": "python",
   "version": "3.11.3"
  },
  "orig_nbformat": 4
 },
 "nbformat": 4,
 "nbformat_minor": 2
}
