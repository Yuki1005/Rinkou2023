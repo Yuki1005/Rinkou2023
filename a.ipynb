{
 "cells": [
  {
   "cell_type": "code",
   "execution_count": 9,
   "metadata": {},
   "outputs": [
    {
     "name": "stdout",
     "output_type": "stream",
     "text": [
      "め\t名詞,一般,*,*,*,*,め,メ,メ\n",
      "かぶ\t動詞,自立,*,*,五段・ラ行,体言接続特殊２,かぶる,カブ,カブ\n",
      "スープ\t名詞,一般,*,*,*,*,スープ,スープ,スープ\n",
      "EOS\n",
      "\n"
     ]
    }
   ],
   "source": [
    "import MeCab\n",
    "import CaboCha\n",
    "t = MeCab.Tagger()\n",
    "s = \"めかぶスープ\"\n",
    "print(t.parse(s))"
   ]
  },
  {
   "cell_type": "code",
   "execution_count": 10,
   "metadata": {},
   "outputs": [
    {
     "name": "stdout",
     "output_type": "stream",
     "text": [
      "      シートンの-D                    \n",
      "        動物好き、---------------D    \n",
      "              動物に---D         |    \n",
      "            目と心とを-D         |    \n",
      "          ひかれつくして-D       |    \n",
      "                    飽きず-----D |    \n",
      "                      観察に---D |    \n",
      "                          我を-D |    \n",
      "                          忘れる-D    \n",
      "                              姿は---D\n",
      "                                全く-D\n",
      "                      一種独特である。\n",
      "EOS\n",
      "\n"
     ]
    }
   ],
   "source": [
    "c = CaboCha.Parser()\n",
    "s = \"シートンの動物好き、動物に目と心とをひかれつくして飽きず観察に我を忘れる姿は全く一種独特である。\"\n",
    "result = c.parseToString(s)\n",
    "print(result)"
   ]
  }
 ],
 "metadata": {
  "kernelspec": {
   "display_name": "python3.7",
   "language": "python",
   "name": "python3"
  },
  "language_info": {
   "codemirror_mode": {
    "name": "ipython",
    "version": 3
   },
   "file_extension": ".py",
   "mimetype": "text/x-python",
   "name": "python",
   "nbconvert_exporter": "python",
   "pygments_lexer": "ipython3",
   "version": "3.8.13"
  }
 },
 "nbformat": 4,
 "nbformat_minor": 2
}
